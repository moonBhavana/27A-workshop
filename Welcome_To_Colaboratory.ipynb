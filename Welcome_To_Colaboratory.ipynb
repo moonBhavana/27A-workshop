{
  "cells": [
    {
      "cell_type": "markdown",
      "metadata": {
        "id": "view-in-github",
        "colab_type": "text"
      },
      "source": [
        "<a href=\"https://colab.research.google.com/github/moonBhavana/27A-workshop/blob/master/Welcome_To_Colaboratory.ipynb\" target=\"_parent\"><img src=\"https://colab.research.google.com/assets/colab-badge.svg\" alt=\"Open In Colab\"/></a>"
      ]
    },
    {
      "cell_type": "markdown",
      "source": [
        "In your role at a company, you've been assigned the task of developing a basic ATM application interface. Your responsibility includes demonstrating each phase of this interface to your boss. Your boss has already provided you with the specific problem statement that needs to be presented in the upcoming presentations.\n",
        "\n",
        "Go through each problem statement and use the given interface to submit your results"
      ],
      "metadata": {
        "id": "p0ZvlE7O7q1d"
      }
    },
    {
      "cell_type": "markdown",
      "source": [
        "Presentation 01: Create a simple banking interface that welcomes the account owner \"Alice\", provides her with the option to inquire about her account balance, and then displays her current balance of $3000.\n",
        "\n",
        "Approach:\n",
        "1. Create a  welcome function with a single parameter username. This function prints a welcome message along with the provided username.\n",
        "\n",
        "2. The balance_inquiry function is defined with a single parameter account_balance. This function returns the account_balance that is passed to it.\n",
        "\n",
        "3. The variable choice is assigned the value 1. This represents the user's choice to perform a balance inquiry.\n",
        "\n",
        "4. An if statement checks if the choice is equal to 1.The code inside the if block is executed.\n",
        "\n",
        "5. Inside the if block, the code prints \"Current balance:\" followed by the result of calling the balance_inquiry function with the current_balance as an argument. This displays the current account balance of Alice, which is 3000.\n",
        "\n",
        "6. If the user chose an option other than 1 (for example, the choice is not equal to 1), the else block would be executed. However, in this code snippet, there is no code provided for the else block, so the output would not contain any message in that case."
      ],
      "metadata": {
        "id": "0CERJsab2i4_"
      }
    },
    {
      "cell_type": "code",
      "source": [
        "def welcome(username):\n",
        "    print(\"Welcome,\", username)\n",
        "\n",
        "def balance_inquiry(account_balance):\n",
        "    return account_balance\n",
        "\n",
        "# Example usage\n",
        "account_owner = \"Alice\"\n",
        "current_balance = 3000\n",
        "\n",
        "welcome(account_owner)\n",
        "print(\"1. Balance Inquiry\")\n",
        "\n",
        "choice = 1\n",
        "if choice == 1:\n",
        "    print(\"Current balance:\", balance_inquiry(current_balance))\n",
        "else:\n",
        "    print(\"Invalid choice.\")\n",
        "\n"
      ],
      "metadata": {
        "colab": {
          "base_uri": "https://localhost:8080/"
        },
        "id": "QmEevidN2U85",
        "outputId": "032b7117-f7cd-4bbe-bc1a-e6d26ee9261e"
      },
      "execution_count": 2,
      "outputs": [
        {
          "output_type": "stream",
          "name": "stdout",
          "text": [
            "Welcome, Alice\n",
            "1. Balance Inquiry\n",
            "Current balance: 3000\n"
          ]
        }
      ]
    },
    {
      "cell_type": "markdown",
      "source": [
        "Question 2.  Write a code that simulates a banking interface for the account owner \"Bob.\" It provides him with the option to perform a withdrawal. If he chooses to withdraw an amount and his balance is sufficient, it subtracts the amount from his balance and displays a success message with the updated balance. If his balance is insufficient, it displays a message indicating the lack of funds. If he chooses an option other than withdrawal, it shows an \"Invalid choice\" message.\n",
        "\n",
        "\n",
        "\n",
        "\n",
        "\n",
        "\n"
      ],
      "metadata": {
        "id": "pTHD5-2N52KI"
      }
    },
    {
      "cell_type": "code",
      "source": [
        "def welcome(username):\n",
        "    print(\"Welcome,\", username, \"! Please select an option.\")\n",
        "\n",
        "def withdrawal(account_balance, amount):\n",
        "    if account_balance >= amount:\n",
        "        account_balance -= amount\n",
        "        return account_balance\n",
        "    return None\n",
        "\n",
        "# Example usage\n",
        "account_owner = \"Alice\"\n",
        "account_balance = 3000\n",
        "\n",
        "welcome(account_owner)\n",
        "print(\"1. Withdrawal\")\n",
        "\n",
        "choice = 1\n",
        "if choice == 1:\n",
        "    withdrawal_amount = 500\n",
        "    updated_balance = withdrawal(account_balance, withdrawal_amount)\n",
        "    if updated_balance:\n",
        "        print(\"Withdrawal successful! Updated balance:\", updated_balance)\n",
        "    else:\n",
        "        print(\"Insufficient balance for withdrawal.\")\n",
        "else:\n",
        "    print(\"Invalid choice.\")\n"
      ],
      "metadata": {
        "colab": {
          "base_uri": "https://localhost:8080/"
        },
        "id": "eGy6kfIk52n9",
        "outputId": "ab5bef25-e40e-4701-d78e-90e22d929dc3"
      },
      "execution_count": 4,
      "outputs": [
        {
          "output_type": "stream",
          "name": "stdout",
          "text": [
            "Welcome, Alice ! Please select an option.\n",
            "1. Withdrawal\n",
            "Withdrawal successful! Updated balance: 2500\n"
          ]
        }
      ]
    }
  ],
  "metadata": {
    "colab": {
      "name": "Welcome To Colaboratory",
      "provenance": [],
      "include_colab_link": true
    },
    "kernelspec": {
      "display_name": "Python 3",
      "name": "python3"
    }
  },
  "nbformat": 4,
  "nbformat_minor": 0
}